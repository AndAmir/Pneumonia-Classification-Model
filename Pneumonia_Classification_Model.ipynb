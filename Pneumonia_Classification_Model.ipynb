{
  "nbformat": 4,
  "nbformat_minor": 0,
  "metadata": {
    "colab": {
      "name": "Pneumonia Classification Model.ipynb",
      "provenance": [],
      "include_colab_link": true
    },
    "kernelspec": {
      "name": "python3",
      "display_name": "Python 3"
    }
  },
  "cells": [
    {
      "cell_type": "markdown",
      "metadata": {
        "id": "view-in-github",
        "colab_type": "text"
      },
      "source": [
        "<a href=\"https://colab.research.google.com/github/AndAmir/Pneumonia-Classification-Model/blob/master/Pneumonia_Classification_Model.ipynb\" target=\"_parent\"><img src=\"https://colab.research.google.com/assets/colab-badge.svg\" alt=\"Open In Colab\"/></a>"
      ]
    },
    {
      "cell_type": "code",
      "metadata": {
        "id": "qKK2gYUB465b",
        "colab_type": "code",
        "colab": {}
      },
      "source": [
        "from fastai.vision import *\n",
        "from fastai.metrics import error_rate\n",
        "from pathlib import Path"
      ],
      "execution_count": null,
      "outputs": []
    },
    {
      "cell_type": "code",
      "metadata": {
        "id": "PGME3VwJA2xW",
        "colab_type": "code",
        "colab": {}
      },
      "source": [
        "p = Path('/content/drive/My Drive/Pneumonia Xray Dataset/train')"
      ],
      "execution_count": null,
      "outputs": []
    },
    {
      "cell_type": "code",
      "metadata": {
        "id": "9UTODgUMC5Gg",
        "colab_type": "code",
        "colab": {}
      },
      "source": [
        "bs = 64"
      ],
      "execution_count": null,
      "outputs": []
    },
    {
      "cell_type": "code",
      "metadata": {
        "id": "pN5KXZhCFOK8",
        "colab_type": "code",
        "colab": {}
      },
      "source": [
        "fnames = get_image_files(p)"
      ],
      "execution_count": null,
      "outputs": []
    },
    {
      "cell_type": "code",
      "metadata": {
        "id": "W0FIZUocFUsg",
        "colab_type": "code",
        "colab": {
          "base_uri": "https://localhost:8080/",
          "height": 108
        },
        "outputId": "88f99a0d-b05b-4d75-b4c8-c1c4d9e57550"
      },
      "source": [
        "fnames[:5]"
      ],
      "execution_count": null,
      "outputs": [
        {
          "output_type": "execute_result",
          "data": {
            "text/plain": [
              "[PosixPath('/content/drive/My Drive/Pneumonia Xray Dataset/train/NORMAL (100).jpeg'),\n",
              " PosixPath('/content/drive/My Drive/Pneumonia Xray Dataset/train/NORMAL (10).jpeg'),\n",
              " PosixPath('/content/drive/My Drive/Pneumonia Xray Dataset/train/NORMAL (1008).jpeg'),\n",
              " PosixPath('/content/drive/My Drive/Pneumonia Xray Dataset/train/NORMAL (1).jpeg'),\n",
              " PosixPath('/content/drive/My Drive/Pneumonia Xray Dataset/train/NORMAL (1002).jpeg')]"
            ]
          },
          "metadata": {
            "tags": []
          },
          "execution_count": 9
        }
      ]
    },
    {
      "cell_type": "code",
      "metadata": {
        "id": "Y-ogqVuGFwNn",
        "colab_type": "code",
        "colab": {}
      },
      "source": [
        "pat = r'/([^/]+) \\($'"
      ],
      "execution_count": null,
      "outputs": []
    },
    {
      "cell_type": "code",
      "metadata": {
        "id": "WcfoPC74KIto",
        "colab_type": "code",
        "colab": {}
      },
      "source": [
        "data = ImageDataBunch.from_name_re(p, fnames, pat, ds_tfms=get_transforms(), size=224, bs=bs).normalize(imagenet_stats)"
      ],
      "execution_count": null,
      "outputs": []
    },
    {
      "cell_type": "code",
      "metadata": {
        "id": "qlMOAoFqK_0Q",
        "colab_type": "code",
        "colab": {
          "base_uri": "https://localhost:8080/",
          "height": 108
        },
        "outputId": "43adad6e-452f-4efc-9be1-6db4423724af"
      },
      "source": [
        "help(ImageDataBunch.from_name_re)"
      ],
      "execution_count": null,
      "outputs": [
        {
          "output_type": "stream",
          "text": [
            "Help on method from_name_re in module fastai.vision.data:\n",
            "\n",
            "from_name_re(path:Union[pathlib.Path, str], fnames:Collection[pathlib.Path], pat:str, valid_pct:float=0.2, **kwargs) method of builtins.type instance\n",
            "    Create from list of `fnames` in `path` with re expression `pat`.\n",
            "\n"
          ],
          "name": "stdout"
        }
      ]
    }
  ]
}